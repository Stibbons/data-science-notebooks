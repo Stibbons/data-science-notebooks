{
 "cells": [
  {
   "cell_type": "markdown",
   "metadata": {},
   "source": [
    "# first, we are loading some data"
   ]
  },
  {
   "cell_type": "code",
   "execution_count": 1,
   "metadata": {
    "collapsed": false
   },
   "outputs": [],
   "source": [
    "import xgboost as xgb\n",
    "import cPickle as pickle\n",
    "from sklearn.metrics import roc_curve, auc\n",
    "import numpy as np\n",
    "\n",
    "def load_data(name):\n",
    "    f=open(name+'.pk1','rb')\n",
    "    tmp=pickle.load(f)\n",
    "    f.close()\n",
    "    return tmp\n",
    "\n",
    "sample_data, sample_target, sample_cv = \\\n",
    "    load_data('sample_data'), load_data('sample_target'), load_data('sample_cv')"
   ]
  },
  {
   "cell_type": "markdown",
   "metadata": {},
   "source": [
    "# and setting xgboost params"
   ]
  },
  {
   "cell_type": "code",
   "execution_count": 2,
   "metadata": {
    "collapsed": true
   },
   "outputs": [],
   "source": [
    "xgb_params= {'eta' :0.5, 'max_depth':6, 'subsample':0.7, 'nthread':32,'eval_metrics':'auc','seed':27}"
   ]
  },
  {
   "cell_type": "markdown",
   "metadata": {},
   "source": [
    "# now making CV with xgb.cv "
   ]
  },
  {
   "cell_type": "code",
   "execution_count": 3,
   "metadata": {
    "collapsed": false
   },
   "outputs": [
    {
     "name": "stderr",
     "output_type": "stream",
     "text": [
      "[0]\tcv-test-auc:0.735845571429+0.0167816785799\tcv-train-auc:0.737591714286+0.00667894561213\n",
      "[10]\tcv-test-auc:0.874163571429+0.0237914165125\tcv-train-auc:0.883316142857+0.00478725013309\n",
      "[20]\tcv-test-auc:0.886021571429+0.0236185393697\tcv-train-auc:0.897613428571+0.00578312488087\n",
      "[30]\tcv-test-auc:0.889775285714+0.0235858872919\tcv-train-auc:0.902816428571+0.00633667485712\n",
      "[40]\tcv-test-auc:0.892011857143+0.0245071014339\tcv-train-auc:0.905576857143+0.00634646579778\n",
      "[50]\tcv-test-auc:0.892436714286+0.0248738822848\tcv-train-auc:0.906705571429+0.00632565919449\n",
      "[60]\tcv-test-auc:0.893096714286+0.0258509233751\tcv-train-auc:0.907717142857+0.00708955066939\n",
      "[70]\tcv-test-auc:0.893982571429+0.0261236180433\tcv-train-auc:0.908896857143+0.00732495215837\n",
      "[80]\tcv-test-auc:0.894836+0.0262578288951\tcv-train-auc:0.909939571429+0.00710310607827\n",
      "[90]\tcv-test-auc:0.895363285714+0.0265216606823\tcv-train-auc:0.910703714286+0.0070735471343\n"
     ]
    }
   ],
   "source": [
    "xgall = xgb.DMatrix(sample_data, label=sample_target)\n",
    "\n",
    "cv_res=xgb.cv(xgb_params,xgall,100, 3, verbose_eval= 10,metrics='auc', folds=sample_cv )"
   ]
  },
  {
   "cell_type": "markdown",
   "metadata": {},
   "source": [
    "# wow, we got nice AUC"
   ]
  },
  {
   "cell_type": "code",
   "execution_count": 4,
   "metadata": {
    "collapsed": false
   },
   "outputs": [
    {
     "name": "stdout",
     "output_type": "stream",
     "text": [
      "our auc on test is: 0.895906714286\n"
     ]
    }
   ],
   "source": [
    "print 'our auc on test is:', cv_res.values[99][0]"
   ]
  },
  {
   "cell_type": "markdown",
   "metadata": {},
   "source": [
    "# now let's make CV using python"
   ]
  },
  {
   "cell_type": "code",
   "execution_count": 5,
   "metadata": {
    "collapsed": false
   },
   "outputs": [],
   "source": [
    "xgbooster = xgb.Booster()\n",
    "\n",
    "res=[]\n",
    "\n",
    "for a,b in sample_cv:\n",
    "    xgtrain = xgb.DMatrix(sample_data[a], label=sample_target[a])\n",
    "    xgbtest = xgb.DMatrix(sample_data[b], label=sample_target[b])\n",
    "    \n",
    "    bst = xgb.train( xgb_params, xgtrain, 100)\n",
    "    pred=bst.predict(xgbtest)\n",
    "    \n",
    "    fpr, tpr, _ = roc_curve(sample_target[b], pred)\n",
    "    roc_auc = auc(fpr, tpr)\n",
    "\n",
    "    res.append(roc_auc)"
   ]
  },
  {
   "cell_type": "markdown",
   "metadata": {},
   "source": [
    "# and getting completely different results!!!"
   ]
  },
  {
   "cell_type": "code",
   "execution_count": 6,
   "metadata": {
    "collapsed": false
   },
   "outputs": [
    {
     "name": "stdout",
     "output_type": "stream",
     "text": [
      "results: [0.78109900929252929, 0.8434556366940299, 0.86579716116771199, 0.80723688722001374, 0.56541167436109074, 0.79476800572814488, 0.77813671313453703] \n",
      "\n",
      "wtf! mean AUC is  0.776557869657\n"
     ]
    }
   ],
   "source": [
    "print 'results:', res, '\\n'\n",
    "print 'wtf! mean AUC is ', np.mean(res)"
   ]
  },
  {
   "cell_type": "code",
   "execution_count": null,
   "metadata": {
    "collapsed": true
   },
   "outputs": [],
   "source": []
  }
 ],
 "metadata": {
  "anaconda-cloud": {},
  "kernelspec": {
   "display_name": "Python [conda env:python_2]",
   "language": "python",
   "name": "conda-env-python_2-py"
  },
  "language_info": {
   "codemirror_mode": {
    "name": "ipython",
    "version": 2
   },
   "file_extension": ".py",
   "mimetype": "text/x-python",
   "name": "python",
   "nbconvert_exporter": "python",
   "pygments_lexer": "ipython2",
   "version": "2.7.12"
  }
 },
 "nbformat": 4,
 "nbformat_minor": 0
}
